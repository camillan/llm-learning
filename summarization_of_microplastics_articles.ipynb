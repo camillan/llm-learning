{
  "nbformat": 4,
  "nbformat_minor": 0,
  "metadata": {
    "colab": {
      "provenance": [],
      "gpuType": "T4",
      "authorship_tag": "ABX9TyPjNicW0oX3kja5Y9TAJ0YK",
      "include_colab_link": true
    },
    "kernelspec": {
      "name": "python3",
      "display_name": "Python 3"
    },
    "language_info": {
      "name": "python"
    },
    "accelerator": "GPU"
  },
  "cells": [
    {
      "cell_type": "markdown",
      "metadata": {
        "id": "view-in-github",
        "colab_type": "text"
      },
      "source": [
        "<a href=\"https://colab.research.google.com/github/camillan/llm-learning/blob/main/summarization_of_microplastics_articles.ipynb\" target=\"_parent\"><img src=\"https://colab.research.google.com/assets/colab-badge.svg\" alt=\"Open In Colab\"/></a>"
      ]
    },
    {
      "cell_type": "code",
      "execution_count": 7,
      "metadata": {
        "id": "jmmqWEBkXRP-"
      },
      "outputs": [],
      "source": [
        "urls = [\n",
        "    \"https://www.eatingwell.com/how-to-limit-microplastics-in-your-food-11713723\",\n",
        "    \"https://www.weforum.org/stories/2025/04/impact-microplastics-environment-health/\",\n",
        "    \"https://marinedebris.noaa.gov/what-marine-debris/microplastics\",\n",
        "    \"https://en.wikipedia.org/wiki/Microplastics\",\n",
        "    \"https://www.ucsf.edu/news/2024/02/427161/how-to-limit-microplastics-dangers\"\n",
        "]\n"
      ]
    },
    {
      "cell_type": "code",
      "source": [
        "import requests\n",
        "from bs4 import BeautifulSoup\n",
        "\n",
        "def get_article_text(url):\n",
        "    try:\n",
        "        response = requests.get(url, timeout=10)\n",
        "        soup = BeautifulSoup(response.content, \"html.parser\")\n",
        "        # Combine all paragraph tags into one string\n",
        "        paragraphs = [p.get_text() for p in soup.find_all(\"p\")]\n",
        "        return \" \".join(paragraphs)\n",
        "    except Exception as e:\n",
        "        print(f\"❌ Error fetching {url}: {e}\")\n",
        "        return \"\"\n"
      ],
      "metadata": {
        "id": "QNipbChiYG0O"
      },
      "execution_count": 8,
      "outputs": []
    },
    {
      "cell_type": "code",
      "source": [
        "from transformers import pipeline\n",
        "\n",
        "summarizer = pipeline(\"summarization\", model=\"facebook/bart-large-cnn\")\n",
        "\n",
        "for url in urls:\n",
        "    print(f\"\\n🔗 {url}\")\n",
        "    article_text = get_article_text(url)\n",
        "\n",
        "    if article_text:\n",
        "        # Limit to 1024 tokens (~4000 characters) to fit model input\n",
        "        article_text = article_text[:4000]\n",
        "        summary = summarizer(article_text, max_length=100, min_length=30, do_sample=False)[0]['summary_text']\n",
        "        print(\"📝 Summary:\")\n",
        "        print(summary)\n",
        "    else:\n",
        "        print(\"No article text found.\")\n"
      ],
      "metadata": {
        "colab": {
          "base_uri": "https://localhost:8080/"
        },
        "id": "LWczKKiNYKDF",
        "outputId": "80a1b8c9-3ea5-4f62-9d7d-7a42ab0f0ec4"
      },
      "execution_count": 9,
      "outputs": [
        {
          "output_type": "stream",
          "name": "stderr",
          "text": [
            "Device set to use cuda:0\n"
          ]
        },
        {
          "output_type": "stream",
          "name": "stdout",
          "text": [
            "\n",
            "🔗 https://www.eatingwell.com/how-to-limit-microplastics-in-your-food-11713723\n"
          ]
        },
        {
          "output_type": "stream",
          "name": "stderr",
          "text": [
            "Your max_length is set to 100, but your input_length is only 87. Since this is a summarization task, where outputs shorter than the input are typically wanted, you might consider decreasing max_length manually, e.g. summarizer('...', max_length=43)\n"
          ]
        },
        {
          "output_type": "stream",
          "name": "stdout",
          "text": [
            "📝 Summary:\n",
            "Microplastics are tiny plastic particles less than 5 millimeters in diameter. The majority of plastic waste is left to accumulate in landfills and the environment. There’s not enough evidence to directly link microplastics to a disease. Follow these steps to reduce your exposure.\n",
            "\n",
            "🔗 https://www.weforum.org/stories/2025/04/impact-microplastics-environment-health/\n",
            "📝 Summary:\n",
            "Reference #18.984ddb17.1744501627.c3c5962b.https://errors.edgesuite.net/18.8.4.1.1/errors-errors-error-reporting.html?referer=http://www.eBay.com/search?q=eBay%20Search%20Ebay%20Results%20Home%20and%20Google%20Street%20\n",
            "\n",
            "🔗 https://marinedebris.noaa.gov/what-marine-debris/microplastics\n",
            "📝 Summary:\n",
            "Microplastics are small plastic pieces or fibers that are smaller than 5 mm in size. Because they are so small, wildlife can mistake microplastics for food. Microplastics can attract and carry pollutants that are in the water. They can also release the chemicals that are added to plastics.\n",
            "\n",
            "🔗 https://en.wikipedia.org/wiki/Microplastics\n",
            "📝 Summary:\n",
            "Microplastics are small pieces of plastic of either primary or secondary manufacturing origin. Primary microplastics include microfibers from clothing, microbeads, plastic glitter[2] and plastic pellets (also known as nurdles) Secondary microplastic arise from the degradation (breakdown) of larger plastic products through natural weathering processes after entering the environment.\n",
            "\n",
            "🔗 https://www.ucsf.edu/news/2024/02/427161/how-to-limit-microplastics-dangers\n",
            "📝 Summary:\n",
            "This website is using a security service to protect itself from online attacks. The action you just performed triggered the security solution. You can email the site owner to let them know you were blocked.\n"
          ]
        }
      ]
    },
    {
      "cell_type": "code",
      "source": [],
      "metadata": {
        "id": "H_tG7yGTYNWp"
      },
      "execution_count": null,
      "outputs": []
    }
  ]
}