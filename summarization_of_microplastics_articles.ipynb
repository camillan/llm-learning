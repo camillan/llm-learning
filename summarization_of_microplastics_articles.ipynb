{
  "nbformat": 4,
  "nbformat_minor": 0,
  "metadata": {
    "colab": {
      "provenance": [],
      "gpuType": "T4",
      "authorship_tag": "ABX9TyMiyvBQiW1fNRiGKe5Aolvs",
      "include_colab_link": true
    },
    "kernelspec": {
      "name": "python3",
      "display_name": "Python 3"
    },
    "language_info": {
      "name": "python"
    },
    "accelerator": "GPU"
  },
  "cells": [
    {
      "cell_type": "markdown",
      "metadata": {
        "id": "view-in-github",
        "colab_type": "text"
      },
      "source": [
        "<a href=\"https://colab.research.google.com/github/camillan/llm-learning/blob/main/summarization_of_microplastics_articles.ipynb\" target=\"_parent\"><img src=\"https://colab.research.google.com/assets/colab-badge.svg\" alt=\"Open In Colab\"/></a>"
      ]
    },
    {
      "cell_type": "code",
      "source": [
        "pip install transformers beautifulsoup4 requests biopython\n"
      ],
      "metadata": {
        "colab": {
          "base_uri": "https://localhost:8080/"
        },
        "id": "vYsT3DIffqOQ",
        "outputId": "c9e79a79-d3e8-4587-edd3-04df10202024"
      },
      "execution_count": 13,
      "outputs": [
        {
          "output_type": "stream",
          "name": "stdout",
          "text": [
            "Requirement already satisfied: transformers in /usr/local/lib/python3.11/dist-packages (4.50.3)\n",
            "Requirement already satisfied: beautifulsoup4 in /usr/local/lib/python3.11/dist-packages (4.13.3)\n",
            "Requirement already satisfied: requests in /usr/local/lib/python3.11/dist-packages (2.32.3)\n",
            "Collecting biopython\n",
            "  Downloading biopython-1.85-cp311-cp311-manylinux_2_17_x86_64.manylinux2014_x86_64.whl.metadata (13 kB)\n",
            "Requirement already satisfied: filelock in /usr/local/lib/python3.11/dist-packages (from transformers) (3.18.0)\n",
            "Requirement already satisfied: huggingface-hub<1.0,>=0.26.0 in /usr/local/lib/python3.11/dist-packages (from transformers) (0.30.1)\n",
            "Requirement already satisfied: numpy>=1.17 in /usr/local/lib/python3.11/dist-packages (from transformers) (2.0.2)\n",
            "Requirement already satisfied: packaging>=20.0 in /usr/local/lib/python3.11/dist-packages (from transformers) (24.2)\n",
            "Requirement already satisfied: pyyaml>=5.1 in /usr/local/lib/python3.11/dist-packages (from transformers) (6.0.2)\n",
            "Requirement already satisfied: regex!=2019.12.17 in /usr/local/lib/python3.11/dist-packages (from transformers) (2024.11.6)\n",
            "Requirement already satisfied: tokenizers<0.22,>=0.21 in /usr/local/lib/python3.11/dist-packages (from transformers) (0.21.1)\n",
            "Requirement already satisfied: safetensors>=0.4.3 in /usr/local/lib/python3.11/dist-packages (from transformers) (0.5.3)\n",
            "Requirement already satisfied: tqdm>=4.27 in /usr/local/lib/python3.11/dist-packages (from transformers) (4.67.1)\n",
            "Requirement already satisfied: soupsieve>1.2 in /usr/local/lib/python3.11/dist-packages (from beautifulsoup4) (2.6)\n",
            "Requirement already satisfied: typing-extensions>=4.0.0 in /usr/local/lib/python3.11/dist-packages (from beautifulsoup4) (4.13.1)\n",
            "Requirement already satisfied: charset-normalizer<4,>=2 in /usr/local/lib/python3.11/dist-packages (from requests) (3.4.1)\n",
            "Requirement already satisfied: idna<4,>=2.5 in /usr/local/lib/python3.11/dist-packages (from requests) (3.10)\n",
            "Requirement already satisfied: urllib3<3,>=1.21.1 in /usr/local/lib/python3.11/dist-packages (from requests) (2.3.0)\n",
            "Requirement already satisfied: certifi>=2017.4.17 in /usr/local/lib/python3.11/dist-packages (from requests) (2025.1.31)\n",
            "Requirement already satisfied: fsspec>=2023.5.0 in /usr/local/lib/python3.11/dist-packages (from huggingface-hub<1.0,>=0.26.0->transformers) (2025.3.2)\n",
            "Downloading biopython-1.85-cp311-cp311-manylinux_2_17_x86_64.manylinux2014_x86_64.whl (3.3 MB)\n",
            "\u001b[2K   \u001b[90m━━━━━━━━━━━━━━━━━━━━━━━━━━━━━━━━━━━━━━━━\u001b[0m \u001b[32m3.3/3.3 MB\u001b[0m \u001b[31m35.9 MB/s\u001b[0m eta \u001b[36m0:00:00\u001b[0m\n",
            "\u001b[?25hInstalling collected packages: biopython\n",
            "Successfully installed biopython-1.85\n"
          ]
        }
      ]
    },
    {
      "cell_type": "code",
      "source": [
        "import requests\n",
        "from bs4 import BeautifulSoup\n",
        "\n",
        "def get_article_text(url):\n",
        "    try:\n",
        "        response = requests.get(url, timeout=10)\n",
        "        soup = BeautifulSoup(response.content, \"html.parser\")\n",
        "        # Combine all paragraph tags into one string\n",
        "        paragraphs = [p.get_text() for p in soup.find_all(\"p\")]\n",
        "        return \" \".join(paragraphs)\n",
        "    except Exception as e:\n",
        "        print(f\"❌ Error fetching {url}: {e}\")\n",
        "        return \"\"\n"
      ],
      "metadata": {
        "id": "QNipbChiYG0O"
      },
      "execution_count": null,
      "outputs": []
    },
    {
      "cell_type": "code",
      "source": [
        "import requests\n",
        "from bs4 import BeautifulSoup\n",
        "from transformers import pipeline\n",
        "from Bio import Entrez\n",
        "\n",
        "# ===== SETUP =====\n",
        "Entrez.email = \"cjn250@gmail.com\"  # Replace with your actual email (required by NCBI)\n",
        "summarizer = pipeline(\"summarization\", model=\"facebook/bart-large-cnn\")\n",
        "\n",
        "# ===== FUNCTIONS =====\n",
        "\n",
        "def extract_article_text(url):\n",
        "    \"\"\"Scrape visible text from a news or research article page.\"\"\"\n",
        "    try:\n",
        "        response = requests.get(url, timeout=10)\n",
        "        soup = BeautifulSoup(response.content, 'html.parser')\n",
        "        paragraphs = [p.get_text() for p in soup.find_all('p')]\n",
        "        return \" \".join(paragraphs)\n",
        "    except Exception as e:\n",
        "        print(f\"❌ Error fetching {url}: {e}\")\n",
        "        return \"\"\n",
        "\n",
        "def fetch_pubmed_abstract(pmid):\n",
        "    \"\"\"Fetch abstract text from PubMed using Entrez API.\"\"\"\n",
        "    try:\n",
        "        handle = Entrez.efetch(db=\"pubmed\", id=pmid, rettype=\"abstract\", retmode=\"text\")\n",
        "        return handle.read()\n",
        "    except Exception as e:\n",
        "        print(f\"❌ Error fetching PubMed {pmid}: {e}\")\n",
        "        return \"\"\n",
        "\n",
        "def summarize_text(text, max_len=100, min_len=30):\n",
        "    \"\"\"Summarize a given block of text using a pre-trained model.\"\"\"\n",
        "    if not text.strip():\n",
        "        return \"\"\n",
        "    text = text[:4000]  # Truncate for model input size\n",
        "    try:\n",
        "        summary = summarizer(text, max_length=max_len, min_length=min_len, do_sample=False)\n",
        "        return summary[0]['summary_text']\n",
        "    except Exception as e:\n",
        "        print(f\"❌ Error summarizing: {e}\")\n",
        "        return \"\"\n",
        "\n",
        "def summarize_all(web_urls, pubmed_pmids):\n",
        "    \"\"\"Process all articles and return individual and combined summaries.\"\"\"\n",
        "    all_summaries = []\n",
        "\n",
        "    # Process web articles\n",
        "    for url in web_urls:\n",
        "        print(f\"🌐 Scraping and summarizing: {url}\")\n",
        "        article_text = extract_article_text(url)\n",
        "        summary = summarize_text(article_text)\n",
        "        if summary:\n",
        "            all_summaries.append(f\"From {url}:\\n{summary}\\n\")\n",
        "\n",
        "    # Process PubMed abstracts\n",
        "    for pmid in pubmed_pmids:\n",
        "        print(f\"🧬 Fetching and summarizing PubMed ID {pmid}\")\n",
        "        abstract = fetch_pubmed_abstract(pmid)\n",
        "        summary = summarize_text(abstract)\n",
        "        if summary:\n",
        "            all_summaries.append(f\"From PubMed ID {pmid}:\\n{summary}\\n\")\n",
        "\n",
        "    # Combine all summaries into one mega-summary\n",
        "    combined_text = \" \".join(all_summaries)\n",
        "    print(\"\\n🧠 Generating meta-summary of all sources...\")\n",
        "    final_summary = summarize_text(combined_text, max_len=250, min_len=80)\n",
        "\n",
        "    return final_summary, all_summaries\n",
        "\n",
        "# ===== RUN THIS PART =====\n",
        "\n",
        "# Example list of sources\n",
        "web_urls = [\n",
        "    \"https://www.eatingwell.com/how-to-limit-microplastics-in-your-food-11713723\",\n",
        "    \"https://www.weforum.org/stories/2025/04/impact-microplastics-environment-health/\",\n",
        "    \"https://marinedebris.noaa.gov/what-marine-debris/microplastics\",\n",
        "    \"https://en.wikipedia.org/wiki/Microplastics\",\n",
        "    \"https://www.ucsf.edu/news/2024/02/427161/how-to-limit-microplastics-dangers\"\n",
        "]\n",
        "\n",
        "pubmed_urls = [\n",
        "    \"PMC9920460\",\n",
        "    \"PMC10151227\",\n",
        "    \"PMC6132564\"\n",
        "]\n",
        "\n",
        "# Generate summaries\n",
        "meta_summary, summaries = summarize_all(web_urls, pubmed_pmids)\n",
        "\n",
        "# Print results\n",
        "print(\"\\n📄 INDIVIDUAL SUMMARIES:\")\n",
        "for s in summaries:\n",
        "    print(s)\n",
        "\n",
        "print(\"\\n🧾 FINAL META-SUMMARY:\")\n",
        "print(meta_summary)\n"
      ],
      "metadata": {
        "colab": {
          "base_uri": "https://localhost:8080/"
        },
        "id": "LWczKKiNYKDF",
        "outputId": "cdaba3c5-7991-4be1-eb15-98a0cf58b020"
      },
      "execution_count": 17,
      "outputs": [
        {
          "output_type": "stream",
          "name": "stderr",
          "text": [
            "Device set to use cuda:0\n"
          ]
        },
        {
          "output_type": "stream",
          "name": "stdout",
          "text": [
            "🌐 Scraping and summarizing: https://www.eatingwell.com/how-to-limit-microplastics-in-your-food-11713723\n",
            "🌐 Scraping and summarizing: https://www.weforum.org/stories/2025/04/impact-microplastics-environment-health/\n"
          ]
        },
        {
          "output_type": "stream",
          "name": "stderr",
          "text": [
            "Your max_length is set to 100, but your input_length is only 84. Since this is a summarization task, where outputs shorter than the input are typically wanted, you might consider decreasing max_length manually, e.g. summarizer('...', max_length=42)\n"
          ]
        },
        {
          "output_type": "stream",
          "name": "stdout",
          "text": [
            "🌐 Scraping and summarizing: https://marinedebris.noaa.gov/what-marine-debris/microplastics\n",
            "🌐 Scraping and summarizing: https://en.wikipedia.org/wiki/Microplastics\n",
            "🌐 Scraping and summarizing: https://www.ucsf.edu/news/2024/02/427161/how-to-limit-microplastics-dangers\n",
            "🧬 Fetching and summarizing PubMed ID 37675473\n",
            "🧬 Fetching and summarizing PubMed ID 37038415\n",
            "\n",
            "🧠 Generating meta-summary of all sources...\n",
            "\n",
            "📄 INDIVIDUAL SUMMARIES:\n",
            "From https://www.eatingwell.com/how-to-limit-microplastics-in-your-food-11713723:\n",
            "Microplastics are tiny plastic particles less than 5 millimeters in diameter. The majority of plastic waste is left to accumulate in landfills and the environment. There’s not enough evidence to directly link microplastics to a disease. Follow these steps to reduce your exposure.\n",
            "\n",
            "From https://www.weforum.org/stories/2025/04/impact-microplastics-environment-health/:\n",
            "Reference #18.984ddb17.1744503444.c448a619.https://errors.edgesuite.net/18. 984dd b17. 1744 503444. c448a 619.\n",
            "\n",
            "From https://marinedebris.noaa.gov/what-marine-debris/microplastics:\n",
            "Microplastics are small plastic pieces or fibers that are smaller than 5 mm in size. Because they are so small, wildlife can mistake microplastics for food. Microplastics can attract and carry pollutants that are in the water. They can also release the chemicals that are added to plastics.\n",
            "\n",
            "From https://en.wikipedia.org/wiki/Microplastics:\n",
            "Microplastics are small pieces of plastic of either primary or secondary manufacturing origin. Primary microplastics include microfibers from clothing, microbeads, plastic glitter[2] and plastic pellets (also known as nurdles) Secondary microplastic arise from the degradation (breakdown) of larger plastic products through natural weathering processes after entering the environment.\n",
            "\n",
            "From https://www.ucsf.edu/news/2024/02/427161/how-to-limit-microplastics-dangers:\n",
            "This website is using a security service to protect itself from online attacks. The action you just performed triggered the security solution. You can email the site owner to let them know you were blocked.\n",
            "\n",
            "From PubMed ID 37675473:\n",
            "Prolonged mechanical muscle loading increases mechanosensor gene and protein levels and causes a moderate fast-to-slow fiber type switch in mice. J Appl Physiol (1985). 2023 Oct 1;135(4):918-931.\n",
            "\n",
            "From PubMed ID 37038415:\n",
            "Comparing expandable and static interbody cages in lumbar interbody fusion. J Spine Surg. 2023 Mar 30;9(1):1-5. Epub 2023 Feb 14.\n",
            "\n",
            "\n",
            "🧾 FINAL META-SUMMARY:\n",
            "Microplastics are small plastic pieces or fibers that are smaller than 5 mm in size. Because they are so small, wildlife can mistake microplastics for food. Microplastics can attract and carry pollutants that are in the water. They can also release the chemicals that are added to plastics. There’s not enough evidence to directly link microplastic to a disease. Follow these steps to reduce your exposure.\n"
          ]
        }
      ]
    },
    {
      "cell_type": "code",
      "source": [],
      "metadata": {
        "id": "H_tG7yGTYNWp"
      },
      "execution_count": null,
      "outputs": []
    }
  ]
}