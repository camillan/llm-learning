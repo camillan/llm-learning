{
  "nbformat": 4,
  "nbformat_minor": 0,
  "metadata": {
    "colab": {
      "provenance": [],
      "gpuType": "T4",
      "authorship_tag": "ABX9TyMSK4J574e45nSI2GjGXRLf",
      "include_colab_link": true
    },
    "kernelspec": {
      "name": "python3",
      "display_name": "Python 3"
    },
    "language_info": {
      "name": "python"
    },
    "accelerator": "GPU"
  },
  "cells": [
    {
      "cell_type": "markdown",
      "metadata": {
        "id": "view-in-github",
        "colab_type": "text"
      },
      "source": [
        "<a href=\"https://colab.research.google.com/github/camillan/llm-learning/blob/main/summarization_of_microplastics_articles.ipynb\" target=\"_parent\"><img src=\"https://colab.research.google.com/assets/colab-badge.svg\" alt=\"Open In Colab\"/></a>"
      ]
    },
    {
      "cell_type": "code",
      "source": [
        "pip install transformers beautifulsoup4 requests biopython\n"
      ],
      "metadata": {
        "colab": {
          "base_uri": "https://localhost:8080/"
        },
        "id": "vYsT3DIffqOQ",
        "outputId": "fa2b0a76-54ed-44b3-c2e4-5843786b18a4"
      },
      "execution_count": 1,
      "outputs": [
        {
          "output_type": "stream",
          "name": "stdout",
          "text": [
            "Requirement already satisfied: transformers in /usr/local/lib/python3.11/dist-packages (4.50.3)\n",
            "Requirement already satisfied: beautifulsoup4 in /usr/local/lib/python3.11/dist-packages (4.13.3)\n",
            "Requirement already satisfied: requests in /usr/local/lib/python3.11/dist-packages (2.32.3)\n",
            "Requirement already satisfied: biopython in /usr/local/lib/python3.11/dist-packages (1.85)\n",
            "Requirement already satisfied: filelock in /usr/local/lib/python3.11/dist-packages (from transformers) (3.18.0)\n",
            "Requirement already satisfied: huggingface-hub<1.0,>=0.26.0 in /usr/local/lib/python3.11/dist-packages (from transformers) (0.30.1)\n",
            "Requirement already satisfied: numpy>=1.17 in /usr/local/lib/python3.11/dist-packages (from transformers) (2.0.2)\n",
            "Requirement already satisfied: packaging>=20.0 in /usr/local/lib/python3.11/dist-packages (from transformers) (24.2)\n",
            "Requirement already satisfied: pyyaml>=5.1 in /usr/local/lib/python3.11/dist-packages (from transformers) (6.0.2)\n",
            "Requirement already satisfied: regex!=2019.12.17 in /usr/local/lib/python3.11/dist-packages (from transformers) (2024.11.6)\n",
            "Requirement already satisfied: tokenizers<0.22,>=0.21 in /usr/local/lib/python3.11/dist-packages (from transformers) (0.21.1)\n",
            "Requirement already satisfied: safetensors>=0.4.3 in /usr/local/lib/python3.11/dist-packages (from transformers) (0.5.3)\n",
            "Requirement already satisfied: tqdm>=4.27 in /usr/local/lib/python3.11/dist-packages (from transformers) (4.67.1)\n",
            "Requirement already satisfied: soupsieve>1.2 in /usr/local/lib/python3.11/dist-packages (from beautifulsoup4) (2.6)\n",
            "Requirement already satisfied: typing-extensions>=4.0.0 in /usr/local/lib/python3.11/dist-packages (from beautifulsoup4) (4.13.1)\n",
            "Requirement already satisfied: charset-normalizer<4,>=2 in /usr/local/lib/python3.11/dist-packages (from requests) (3.4.1)\n",
            "Requirement already satisfied: idna<4,>=2.5 in /usr/local/lib/python3.11/dist-packages (from requests) (3.10)\n",
            "Requirement already satisfied: urllib3<3,>=1.21.1 in /usr/local/lib/python3.11/dist-packages (from requests) (2.3.0)\n",
            "Requirement already satisfied: certifi>=2017.4.17 in /usr/local/lib/python3.11/dist-packages (from requests) (2025.1.31)\n",
            "Requirement already satisfied: fsspec>=2023.5.0 in /usr/local/lib/python3.11/dist-packages (from huggingface-hub<1.0,>=0.26.0->transformers) (2025.3.2)\n"
          ]
        }
      ]
    },
    {
      "cell_type": "code",
      "source": [
        "import requests\n",
        "from bs4 import BeautifulSoup\n",
        "\n",
        "def get_article_text(url):\n",
        "    try:\n",
        "        response = requests.get(url, timeout=10)\n",
        "        soup = BeautifulSoup(response.content, \"html.parser\")\n",
        "        # Combine all paragraph tags into one string\n",
        "        paragraphs = [p.get_text() for p in soup.find_all(\"p\")]\n",
        "        return \" \".join(paragraphs)\n",
        "    except Exception as e:\n",
        "        print(f\"❌ Error fetching {url}: {e}\")\n",
        "        return \"\"\n"
      ],
      "metadata": {
        "id": "QNipbChiYG0O"
      },
      "execution_count": 2,
      "outputs": []
    },
    {
      "cell_type": "code",
      "source": [
        "from transformers import pipeline\n",
        "from Bio import Entrez\n",
        "\n",
        "# ===== SETUP =====\n",
        "Entrez.email = \"cjn250@gmail.com\"  # Required by NCBI\n",
        "summarizer = pipeline(\"summarization\", model=\"facebook/bart-large-cnn\")\n",
        "\n",
        "# ===== FUNCTIONS =====\n",
        "\n",
        "def fetch_pubmed_abstract(pmid):\n",
        "    \"\"\"Fetch abstract text from PubMed using a PMID (e.g., '22375028').\"\"\"\n",
        "    try:\n",
        "        handle = Entrez.efetch(db=\"pubmed\", id=pmid, rettype=\"abstract\", retmode=\"text\")\n",
        "        return handle.read()\n",
        "    except Exception as e:\n",
        "        print(f\"❌ Error fetching {pmid}: {e}\")\n",
        "        return \"\"\n",
        "\n",
        "def summarize_text(text, max_len=100, min_len=30):\n",
        "    \"\"\"Summarize a given block of text using a pre-trained model.\"\"\"\n",
        "    if not text.strip():\n",
        "        return \"\"\n",
        "    text = text[:4000]  # Truncate to fit model input size\n",
        "    try:\n",
        "        summary = summarizer(text, max_length=max_len, min_length=min_len, do_sample=False)\n",
        "        return summary[0]['summary_text']\n",
        "    except Exception as e:\n",
        "        print(f\"❌ Error summarizing: {e}\")\n",
        "        return \"\"\n",
        "\n",
        "def summarize_pubmed_articles(pmids):\n",
        "    \"\"\"Summarize multiple PubMed articles and return both individual and combined summaries.\"\"\"\n",
        "    all_summaries = []\n",
        "\n",
        "    for pmid in pmids:\n",
        "        print(f\"🧬 Fetching and summarizing PubMed ID {pmid}\")\n",
        "        abstract = fetch_pubmed_abstract(pmid)\n",
        "        summary = summarize_text(abstract)\n",
        "        if summary:\n",
        "            all_summaries.append(f\"From PMID {pmid}:\\n{summary}\\n\")\n",
        "\n",
        "    combined_text = \" \".join(all_summaries)\n",
        "    print(\"\\n🧠 Generating meta-summary of all articles...\")\n",
        "    final_summary = summarize_text(combined_text, max_len=250, min_len=80)\n",
        "\n",
        "    return final_summary, all_summaries\n",
        "\n",
        "# ===== INPUT: PMIDs instead of PMCIDs =====\n",
        "pmids = [\n",
        "    \"32193409\",\n",
        "    \"38226412\",\n",
        "    \"38142809\",\n",
        "    \"39669275\",\n",
        "    \"38967482\",\n",
        "    \"32513186\"\n",
        "]\n",
        "\n",
        "# ===== RUN =====\n",
        "meta_summary, summaries = summarize_pubmed_articles(pmids)\n",
        "\n",
        "# ===== OUTPUT =====\n",
        "print(\"\\n📄 INDIVIDUAL SUMMARIES:\")\n",
        "for s in summaries:\n",
        "    print(s)\n",
        "\n",
        "print(\"\\n🧾 FINAL META-SUMMARY:\")\n",
        "print(meta_summary)\n"
      ],
      "metadata": {
        "colab": {
          "base_uri": "https://localhost:8080/"
        },
        "id": "LWczKKiNYKDF",
        "outputId": "e7b93792-1009-479d-b949-a956770e66d8"
      },
      "execution_count": 6,
      "outputs": [
        {
          "output_type": "stream",
          "name": "stderr",
          "text": [
            "Device set to use cuda:0\n"
          ]
        },
        {
          "output_type": "stream",
          "name": "stdout",
          "text": [
            "🧬 Fetching and summarizing PubMed ID 32193409\n",
            "🧬 Fetching and summarizing PubMed ID 38226412\n",
            "🧬 Fetching and summarizing PubMed ID 38142809\n",
            "🧬 Fetching and summarizing PubMed ID 39669275\n",
            "🧬 Fetching and summarizing PubMed ID 38967482\n",
            "🧬 Fetching and summarizing PubMed ID 32513186\n",
            "\n",
            "🧠 Generating meta-summary of all articles...\n",
            "\n",
            "📄 INDIVIDUAL SUMMARIES:\n",
            "From PMID 32193409:\n",
            "Microplastics generated when opening plastic packaging. Millions of tonnes of plastics have been released into the environment. Although the risk of plastics to humans is not yet resolved, microplastics have entered our bodies.\n",
            "\n",
            "From PMID 38226412:\n",
            "Microplastics (MPs) and nanoplastics (NPs) have become a growing concern in dermatology. The study delves into their capacity to breach the cutaneous barrier. Evidence suggests that MPs and NPs may indeed incite cutaneous alterations, provoke inflammatory responses, and disturb the homeostasis of the skin.\n",
            "\n",
            "From PMID 38142809:\n",
            "Microplastic pollution has emerged as a new environmental concern due to our reliance on plastic. Microplastics have been reported to absorb pollutants such as persistent organic pollutants, heavy metals, and antibiotics. Hydrophobic interactions are found to be the predominant sorption mechanism, especially for organic pollutants.\n",
            "\n",
            "From PMID 39669275:\n",
            "Microplastics (MPs) are plastic particles smaller than 5 mm. MPs accumulate in the gastrointestinal tract, disrupting the gut microbiome. This disruption has been linked to various health issues, including gastrointestinal disorders, systemic inflammation, and chronic disease risks.\n",
            "\n",
            "From PMID 38967482:\n",
            "Primary Microplastics in the Ecosystem: Ecological Effects, Risks, and  Comprehensive Perspectives on Toxicology and Detection Methods. J Environ Sci Health C Toxicol Carcinog. 2024;42(4):314-365.\n",
            "\n",
            "From PMID 32513186:\n",
            "The plastic brain: neurotoxicity of micro- and nanoplastics. 1. Part Fibre Toxicol. 2020 Jun 8;17(1):24, 10.1186/s12989-020-00358-y.\n",
            "\n",
            "\n",
            "🧾 FINAL META-SUMMARY:\n",
            "Millions of tonnes of plastics have been released into the environment. Although the risk of plastics to humans is not yet resolved, microplastics have entered our bodies. Evidence suggests that MPs and NPs may indeed incite cutaneous alterations, provoke inflammatory responses, and disturb the homeostasis of the skin. Microplastic pollution has emerged as a new environmental concern due to our reliance on plastic.\n"
          ]
        }
      ]
    }
  ]
}